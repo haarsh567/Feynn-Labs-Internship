{
 "cells": [
  {
   "cell_type": "code",
   "execution_count": 1,
   "id": "7b9da5e4",
   "metadata": {},
   "outputs": [],
   "source": [
    "import os\n",
    "\n",
    "# Set the environment variable\n",
    "os.environ['OMP_NUM_THREADS'] = '6'\n",
    "import numpy as np\n",
    "import pandas as pd\n",
    "from sklearn.cluster import MiniBatchKMeans\n",
    "import warnings\n",
    "warnings.filterwarnings(\"ignore\")\n"
   ]
  },
  {
   "cell_type": "code",
   "execution_count": 2,
   "id": "d3253171",
   "metadata": {},
   "outputs": [],
   "source": [
    "df=pd.read_csv(r\"C:\\Users\\TUFF\\Downloads\\McDonalds Case Study-20240102T055655Z-001\\McDonalds Case Study\\mcdonalds.csv\",encoding=\"ISO-8859-1\")"
   ]
  },
  {
   "cell_type": "code",
   "execution_count": 3,
   "id": "64609e7a",
   "metadata": {},
   "outputs": [
    {
     "data": {
      "text/html": [
       "<div>\n",
       "<style scoped>\n",
       "    .dataframe tbody tr th:only-of-type {\n",
       "        vertical-align: middle;\n",
       "    }\n",
       "\n",
       "    .dataframe tbody tr th {\n",
       "        vertical-align: top;\n",
       "    }\n",
       "\n",
       "    .dataframe thead th {\n",
       "        text-align: right;\n",
       "    }\n",
       "</style>\n",
       "<table border=\"1\" class=\"dataframe\">\n",
       "  <thead>\n",
       "    <tr style=\"text-align: right;\">\n",
       "      <th></th>\n",
       "      <th>yummy</th>\n",
       "      <th>convenient</th>\n",
       "      <th>spicy</th>\n",
       "      <th>fattening</th>\n",
       "      <th>greasy</th>\n",
       "      <th>fast</th>\n",
       "      <th>cheap</th>\n",
       "      <th>tasty</th>\n",
       "      <th>expensive</th>\n",
       "      <th>healthy</th>\n",
       "      <th>disgusting</th>\n",
       "      <th>Like</th>\n",
       "      <th>Age</th>\n",
       "      <th>VisitFrequency</th>\n",
       "      <th>Gender</th>\n",
       "    </tr>\n",
       "  </thead>\n",
       "  <tbody>\n",
       "    <tr>\n",
       "      <th>1095</th>\n",
       "      <td>Yes</td>\n",
       "      <td>Yes</td>\n",
       "      <td>No</td>\n",
       "      <td>No</td>\n",
       "      <td>No</td>\n",
       "      <td>Yes</td>\n",
       "      <td>No</td>\n",
       "      <td>Yes</td>\n",
       "      <td>Yes</td>\n",
       "      <td>No</td>\n",
       "      <td>No</td>\n",
       "      <td>I love it!+5</td>\n",
       "      <td>52</td>\n",
       "      <td>Once a week</td>\n",
       "      <td>Male</td>\n",
       "    </tr>\n",
       "    <tr>\n",
       "      <th>289</th>\n",
       "      <td>No</td>\n",
       "      <td>Yes</td>\n",
       "      <td>No</td>\n",
       "      <td>No</td>\n",
       "      <td>No</td>\n",
       "      <td>Yes</td>\n",
       "      <td>No</td>\n",
       "      <td>No</td>\n",
       "      <td>No</td>\n",
       "      <td>No</td>\n",
       "      <td>No</td>\n",
       "      <td>+3</td>\n",
       "      <td>68</td>\n",
       "      <td>Once a month</td>\n",
       "      <td>Male</td>\n",
       "    </tr>\n",
       "    <tr>\n",
       "      <th>677</th>\n",
       "      <td>No</td>\n",
       "      <td>Yes</td>\n",
       "      <td>Yes</td>\n",
       "      <td>Yes</td>\n",
       "      <td>Yes</td>\n",
       "      <td>Yes</td>\n",
       "      <td>No</td>\n",
       "      <td>Yes</td>\n",
       "      <td>Yes</td>\n",
       "      <td>No</td>\n",
       "      <td>No</td>\n",
       "      <td>-3</td>\n",
       "      <td>55</td>\n",
       "      <td>Never</td>\n",
       "      <td>Male</td>\n",
       "    </tr>\n",
       "    <tr>\n",
       "      <th>227</th>\n",
       "      <td>Yes</td>\n",
       "      <td>Yes</td>\n",
       "      <td>No</td>\n",
       "      <td>Yes</td>\n",
       "      <td>No</td>\n",
       "      <td>Yes</td>\n",
       "      <td>Yes</td>\n",
       "      <td>Yes</td>\n",
       "      <td>No</td>\n",
       "      <td>No</td>\n",
       "      <td>No</td>\n",
       "      <td>+3</td>\n",
       "      <td>27</td>\n",
       "      <td>Once a month</td>\n",
       "      <td>Female</td>\n",
       "    </tr>\n",
       "    <tr>\n",
       "      <th>466</th>\n",
       "      <td>No</td>\n",
       "      <td>Yes</td>\n",
       "      <td>No</td>\n",
       "      <td>Yes</td>\n",
       "      <td>No</td>\n",
       "      <td>Yes</td>\n",
       "      <td>Yes</td>\n",
       "      <td>No</td>\n",
       "      <td>No</td>\n",
       "      <td>No</td>\n",
       "      <td>No</td>\n",
       "      <td>0</td>\n",
       "      <td>56</td>\n",
       "      <td>Never</td>\n",
       "      <td>Female</td>\n",
       "    </tr>\n",
       "    <tr>\n",
       "      <th>375</th>\n",
       "      <td>No</td>\n",
       "      <td>Yes</td>\n",
       "      <td>No</td>\n",
       "      <td>No</td>\n",
       "      <td>No</td>\n",
       "      <td>Yes</td>\n",
       "      <td>No</td>\n",
       "      <td>Yes</td>\n",
       "      <td>No</td>\n",
       "      <td>No</td>\n",
       "      <td>No</td>\n",
       "      <td>+2</td>\n",
       "      <td>58</td>\n",
       "      <td>Once a month</td>\n",
       "      <td>Male</td>\n",
       "    </tr>\n",
       "    <tr>\n",
       "      <th>534</th>\n",
       "      <td>No</td>\n",
       "      <td>Yes</td>\n",
       "      <td>No</td>\n",
       "      <td>Yes</td>\n",
       "      <td>Yes</td>\n",
       "      <td>No</td>\n",
       "      <td>No</td>\n",
       "      <td>No</td>\n",
       "      <td>No</td>\n",
       "      <td>No</td>\n",
       "      <td>No</td>\n",
       "      <td>+1</td>\n",
       "      <td>67</td>\n",
       "      <td>Once a year</td>\n",
       "      <td>Female</td>\n",
       "    </tr>\n",
       "    <tr>\n",
       "      <th>370</th>\n",
       "      <td>No</td>\n",
       "      <td>Yes</td>\n",
       "      <td>No</td>\n",
       "      <td>No</td>\n",
       "      <td>No</td>\n",
       "      <td>Yes</td>\n",
       "      <td>Yes</td>\n",
       "      <td>Yes</td>\n",
       "      <td>No</td>\n",
       "      <td>No</td>\n",
       "      <td>No</td>\n",
       "      <td>+1</td>\n",
       "      <td>48</td>\n",
       "      <td>Once a month</td>\n",
       "      <td>Male</td>\n",
       "    </tr>\n",
       "    <tr>\n",
       "      <th>962</th>\n",
       "      <td>Yes</td>\n",
       "      <td>Yes</td>\n",
       "      <td>No</td>\n",
       "      <td>Yes</td>\n",
       "      <td>Yes</td>\n",
       "      <td>Yes</td>\n",
       "      <td>Yes</td>\n",
       "      <td>Yes</td>\n",
       "      <td>No</td>\n",
       "      <td>No</td>\n",
       "      <td>No</td>\n",
       "      <td>+3</td>\n",
       "      <td>18</td>\n",
       "      <td>Every three months</td>\n",
       "      <td>Female</td>\n",
       "    </tr>\n",
       "    <tr>\n",
       "      <th>846</th>\n",
       "      <td>Yes</td>\n",
       "      <td>Yes</td>\n",
       "      <td>No</td>\n",
       "      <td>Yes</td>\n",
       "      <td>Yes</td>\n",
       "      <td>Yes</td>\n",
       "      <td>No</td>\n",
       "      <td>Yes</td>\n",
       "      <td>Yes</td>\n",
       "      <td>Yes</td>\n",
       "      <td>No</td>\n",
       "      <td>+3</td>\n",
       "      <td>24</td>\n",
       "      <td>More than once a week</td>\n",
       "      <td>Female</td>\n",
       "    </tr>\n",
       "  </tbody>\n",
       "</table>\n",
       "</div>"
      ],
      "text/plain": [
       "     yummy convenient spicy fattening greasy fast cheap tasty expensive  \\\n",
       "1095   Yes        Yes    No        No     No  Yes    No   Yes       Yes   \n",
       "289     No        Yes    No        No     No  Yes    No    No        No   \n",
       "677     No        Yes   Yes       Yes    Yes  Yes    No   Yes       Yes   \n",
       "227    Yes        Yes    No       Yes     No  Yes   Yes   Yes        No   \n",
       "466     No        Yes    No       Yes     No  Yes   Yes    No        No   \n",
       "375     No        Yes    No        No     No  Yes    No   Yes        No   \n",
       "534     No        Yes    No       Yes    Yes   No    No    No        No   \n",
       "370     No        Yes    No        No     No  Yes   Yes   Yes        No   \n",
       "962    Yes        Yes    No       Yes    Yes  Yes   Yes   Yes        No   \n",
       "846    Yes        Yes    No       Yes    Yes  Yes    No   Yes       Yes   \n",
       "\n",
       "     healthy disgusting          Like  Age         VisitFrequency  Gender  \n",
       "1095      No         No  I love it!+5   52            Once a week    Male  \n",
       "289       No         No            +3   68           Once a month    Male  \n",
       "677       No         No            -3   55                  Never    Male  \n",
       "227       No         No            +3   27           Once a month  Female  \n",
       "466       No         No             0   56                  Never  Female  \n",
       "375       No         No            +2   58           Once a month    Male  \n",
       "534       No         No            +1   67            Once a year  Female  \n",
       "370       No         No            +1   48           Once a month    Male  \n",
       "962       No         No            +3   18     Every three months  Female  \n",
       "846      Yes         No            +3   24  More than once a week  Female  "
      ]
     },
     "execution_count": 3,
     "metadata": {},
     "output_type": "execute_result"
    }
   ],
   "source": [
    "df.sample(10)"
   ]
  },
  {
   "cell_type": "code",
   "execution_count": 4,
   "id": "a6fc4168",
   "metadata": {},
   "outputs": [
    {
     "data": {
      "text/plain": [
       "(1453, 15)"
      ]
     },
     "execution_count": 4,
     "metadata": {},
     "output_type": "execute_result"
    }
   ],
   "source": [
    "df.shape"
   ]
  },
  {
   "cell_type": "code",
   "execution_count": 5,
   "id": "a2659ea1",
   "metadata": {},
   "outputs": [],
   "source": [
    "df.replace(('Yes','No'),(1,0),inplace=True)"
   ]
  },
  {
   "cell_type": "code",
   "execution_count": 6,
   "id": "a6e5fcc0",
   "metadata": {},
   "outputs": [
    {
     "data": {
      "text/html": [
       "<div>\n",
       "<style scoped>\n",
       "    .dataframe tbody tr th:only-of-type {\n",
       "        vertical-align: middle;\n",
       "    }\n",
       "\n",
       "    .dataframe tbody tr th {\n",
       "        vertical-align: top;\n",
       "    }\n",
       "\n",
       "    .dataframe thead th {\n",
       "        text-align: right;\n",
       "    }\n",
       "</style>\n",
       "<table border=\"1\" class=\"dataframe\">\n",
       "  <thead>\n",
       "    <tr style=\"text-align: right;\">\n",
       "      <th></th>\n",
       "      <th>yummy</th>\n",
       "      <th>convenient</th>\n",
       "      <th>spicy</th>\n",
       "      <th>fattening</th>\n",
       "      <th>greasy</th>\n",
       "      <th>fast</th>\n",
       "      <th>cheap</th>\n",
       "      <th>tasty</th>\n",
       "      <th>expensive</th>\n",
       "      <th>healthy</th>\n",
       "      <th>disgusting</th>\n",
       "      <th>Like</th>\n",
       "      <th>Age</th>\n",
       "      <th>VisitFrequency</th>\n",
       "      <th>Gender</th>\n",
       "    </tr>\n",
       "  </thead>\n",
       "  <tbody>\n",
       "    <tr>\n",
       "      <th>833</th>\n",
       "      <td>0</td>\n",
       "      <td>1</td>\n",
       "      <td>0</td>\n",
       "      <td>1</td>\n",
       "      <td>1</td>\n",
       "      <td>1</td>\n",
       "      <td>1</td>\n",
       "      <td>0</td>\n",
       "      <td>0</td>\n",
       "      <td>1</td>\n",
       "      <td>0</td>\n",
       "      <td>+1</td>\n",
       "      <td>63</td>\n",
       "      <td>Once a week</td>\n",
       "      <td>Male</td>\n",
       "    </tr>\n",
       "    <tr>\n",
       "      <th>685</th>\n",
       "      <td>1</td>\n",
       "      <td>1</td>\n",
       "      <td>0</td>\n",
       "      <td>1</td>\n",
       "      <td>1</td>\n",
       "      <td>1</td>\n",
       "      <td>0</td>\n",
       "      <td>0</td>\n",
       "      <td>1</td>\n",
       "      <td>0</td>\n",
       "      <td>0</td>\n",
       "      <td>+3</td>\n",
       "      <td>39</td>\n",
       "      <td>Once a month</td>\n",
       "      <td>Male</td>\n",
       "    </tr>\n",
       "    <tr>\n",
       "      <th>1435</th>\n",
       "      <td>0</td>\n",
       "      <td>1</td>\n",
       "      <td>0</td>\n",
       "      <td>1</td>\n",
       "      <td>1</td>\n",
       "      <td>1</td>\n",
       "      <td>1</td>\n",
       "      <td>0</td>\n",
       "      <td>0</td>\n",
       "      <td>0</td>\n",
       "      <td>1</td>\n",
       "      <td>I hate it!-5</td>\n",
       "      <td>25</td>\n",
       "      <td>Never</td>\n",
       "      <td>Male</td>\n",
       "    </tr>\n",
       "  </tbody>\n",
       "</table>\n",
       "</div>"
      ],
      "text/plain": [
       "      yummy  convenient  spicy  fattening  greasy  fast  cheap  tasty  \\\n",
       "833       0           1      0          1       1     1      1      0   \n",
       "685       1           1      0          1       1     1      0      0   \n",
       "1435      0           1      0          1       1     1      1      0   \n",
       "\n",
       "      expensive  healthy  disgusting          Like  Age VisitFrequency Gender  \n",
       "833           0        1           0            +1   63    Once a week   Male  \n",
       "685           1        0           0            +3   39   Once a month   Male  \n",
       "1435          0        0           1  I hate it!-5   25          Never   Male  "
      ]
     },
     "execution_count": 6,
     "metadata": {},
     "output_type": "execute_result"
    }
   ],
   "source": [
    "df.sample(3)"
   ]
  },
  {
   "cell_type": "code",
   "execution_count": 7,
   "id": "4fd60865",
   "metadata": {},
   "outputs": [],
   "source": [
    "result = round(df.iloc[:, 0:11].mean(), 2)\n"
   ]
  },
  {
   "cell_type": "code",
   "execution_count": 8,
   "id": "26735ade",
   "metadata": {},
   "outputs": [
    {
     "name": "stdout",
     "output_type": "stream",
     "text": [
      "yummy         0.55\n",
      "convenient    0.91\n",
      "spicy         0.09\n",
      "fattening     0.87\n",
      "greasy        0.53\n",
      "fast          0.90\n",
      "cheap         0.60\n",
      "tasty         0.64\n",
      "expensive     0.36\n",
      "healthy       0.20\n",
      "disgusting    0.24\n",
      "dtype: float64\n"
     ]
    }
   ],
   "source": [
    "print(result)"
   ]
  },
  {
   "cell_type": "code",
   "execution_count": 9,
   "id": "f0c0077c",
   "metadata": {},
   "outputs": [],
   "source": [
    "from sklearn.decomposition import PCA\n",
    "from sklearn.preprocessing import StandardScaler"
   ]
  },
  {
   "cell_type": "code",
   "execution_count": 10,
   "id": "b4522fb0",
   "metadata": {},
   "outputs": [],
   "source": [
    "MD = df.iloc[:, 0:11]"
   ]
  },
  {
   "cell_type": "code",
   "execution_count": 11,
   "id": "bbc0b0b6",
   "metadata": {},
   "outputs": [],
   "source": [
    "scaler = StandardScaler()\n",
    "MD_standardized = scaler.fit_transform(MD)"
   ]
  },
  {
   "cell_type": "code",
   "execution_count": 12,
   "id": "4b105f59",
   "metadata": {},
   "outputs": [],
   "source": [
    "pca = PCA()\n",
    "MD_pca = pca.fit_transform(MD_standardized)\n"
   ]
  },
  {
   "cell_type": "code",
   "execution_count": 13,
   "id": "c40b67c6",
   "metadata": {},
   "outputs": [
    {
     "name": "stdout",
     "output_type": "stream",
     "text": [
      "Importance of components:\n",
      "      Standard deviation  Proportion of Variance  Cumulative Proportion\n",
      "PC1             2.813166                0.255566               0.255566\n",
      "PC2             1.632948                0.148348               0.403914\n",
      "PC3             1.381110                0.125469               0.529383\n",
      "PC4             1.081711                0.098270               0.627653\n",
      "PC5             0.918952                0.083484               0.711136\n",
      "PC6             0.782540                0.071091               0.782227\n",
      "PC7             0.715334                0.064986               0.847213\n",
      "PC8             0.592700                0.053845               0.901058\n",
      "PC9             0.524270                0.047628               0.948686\n",
      "PC10            0.307814                0.027964               0.976650\n",
      "PC11            0.257031                0.023350               1.000000\n"
     ]
    }
   ],
   "source": [
    "print(\"Importance of components:\")\n",
    "print(pd.DataFrame({\n",
    "    'Standard deviation': pca.explained_variance_,\n",
    "    'Proportion of Variance': pca.explained_variance_ratio_,\n",
    "    'Cumulative Proportion': pca.explained_variance_ratio_.cumsum()\n",
    "}, index=[f'PC{i+1}' for i in range(len(pca.explained_variance_))]))"
   ]
  },
  {
   "cell_type": "code",
   "execution_count": 14,
   "id": "a2730d47",
   "metadata": {},
   "outputs": [],
   "source": [
    "rotation_matrix = pd.DataFrame(pca.components_.T, columns=[f'PC{i+1}' for i in range(len(pca.components_))], index=MD.columns)\n"
   ]
  },
  {
   "cell_type": "code",
   "execution_count": 15,
   "id": "a9ccb691",
   "metadata": {},
   "outputs": [],
   "source": [
    "rotation_matrix *= -1\n"
   ]
  },
  {
   "cell_type": "code",
   "execution_count": 16,
   "id": "9b44430a",
   "metadata": {},
   "outputs": [
    {
     "name": "stdout",
     "output_type": "stream",
     "text": [
      "Rotation (n x k) = (11 x 11):\n",
      "              PC1    PC2    PC3    PC4    PC5    PC6    PC7    PC8    PC9  \\\n",
      "yummy       0.407 -0.283  0.260 -0.026 -0.347  0.125 -0.160 -0.017  0.195   \n",
      "convenient  0.309  0.046  0.317  0.009  0.437 -0.189  0.662 -0.150  0.337   \n",
      "spicy       0.023 -0.070 -0.020 -0.845  0.186 -0.439 -0.214  0.028 -0.025   \n",
      "fattening  -0.178  0.206  0.608  0.023 -0.087 -0.108  0.024  0.720 -0.105   \n",
      "greasy     -0.268  0.136  0.390 -0.331 -0.344  0.278  0.307 -0.487 -0.346   \n",
      "fast        0.213  0.282  0.211 -0.090  0.569  0.573 -0.392 -0.056 -0.099   \n",
      "cheap       0.289  0.575 -0.125 -0.114 -0.257 -0.021  0.009  0.065  0.062   \n",
      "tasty       0.426 -0.242  0.270 -0.073 -0.286  0.053 -0.197 -0.059  0.214   \n",
      "expensive  -0.291 -0.568  0.183 -0.036  0.207  0.171 -0.015  0.062  0.010   \n",
      "healthy     0.267 -0.201 -0.368 -0.302 -0.052  0.446  0.449  0.446 -0.219   \n",
      "disgusting -0.411  0.144 -0.090 -0.235 -0.106  0.328  0.017  0.079  0.781   \n",
      "\n",
      "             PC10   PC11  \n",
      "yummy      -0.691  0.092  \n",
      "convenient -0.029 -0.021  \n",
      "spicy      -0.058  0.042  \n",
      "fattening   0.020  0.075  \n",
      "greasy      0.015  0.031  \n",
      "fast       -0.018  0.054  \n",
      "cheap      -0.060 -0.692  \n",
      "tasty       0.713 -0.006  \n",
      "expensive  -0.030 -0.694  \n",
      "healthy     0.055  0.090  \n",
      "disgusting  0.016  0.109  \n"
     ]
    }
   ],
   "source": [
    "print(\"Rotation (n x k) = (11 x 11):\")\n",
    "print(rotation_matrix.round(3))"
   ]
  },
  {
   "cell_type": "code",
   "execution_count": 17,
   "id": "bd8a8fe3",
   "metadata": {},
   "outputs": [],
   "source": [
    "import matplotlib.pyplot as plt"
   ]
  },
  {
   "cell_type": "code",
   "execution_count": 18,
   "id": "c9afb982",
   "metadata": {},
   "outputs": [
    {
     "data": {
      "image/png": "[encoded data removed]",
      "text/plain": [
       "<Figure size 640x480 with 1 Axes>"
      ]
     },
     "metadata": {},
     "output_type": "display_data"
    }
   ],
   "source": [
    "plt.scatter(MD_pca[:, 0], MD_pca[:, 1], c='grey')\n",
    "plt.title('PCA Results')\n",
    "plt.xlabel('Principal Component 1')\n",
    "plt.ylabel('Principal Component 2')\n",
    "plt.show()"
   ]
  },
  {
   "cell_type": "code",
   "execution_count": 19,
   "id": "08075419",
   "metadata": {},
   "outputs": [],
   "source": [
    "from sklearn.cluster import KMeans\n",
    "from sklearn.cluster import KMeans\n",
    "\n",
    "# Set the number of initializations explicitly\n",
    "kmeans = KMeans(n_clusters=3, n_init=10, random_state=1234)\n"
   ]
  },
  {
   "cell_type": "code",
   "execution_count": 20,
   "id": "08e5a3ed",
   "metadata": {},
   "outputs": [],
   "source": [
    "k_values = range(2, 9)\n",
    "best_model = None\n",
    "best_score = float('inf')"
   ]
  },
  {
   "cell_type": "code",
   "execution_count": 21,
   "id": "b2aa6261",
   "metadata": {},
   "outputs": [],
   "source": [
    "for k in k_values:\n",
    "    # Repeat the clustering multiple times (nrep = 10 in R)\n",
    "    for _ in range(10):\n",
    "        kmeans = KMeans(n_clusters=k)\n",
    "        labels = kmeans.fit_predict(MD_standardized)"
   ]
  },
  {
   "cell_type": "code",
   "execution_count": 22,
   "id": "1fe03ff1",
   "metadata": {},
   "outputs": [],
   "source": [
    " medoids = []\n",
    "for cluster_label in range(k):\n",
    "            cluster_points = MD_standardized[labels == cluster_label]\n",
    "            cluster_center = kmeans.cluster_centers_[cluster_label]\n",
    "            distances = np.linalg.norm(cluster_points - cluster_center, axis=1)\n",
    "            medoid_index = np.argmin(distances)\n",
    "            medoid = cluster_points[medoid_index]\n",
    "            medoids.append(medoid)\n"
   ]
  },
  {
   "cell_type": "code",
   "execution_count": 23,
   "id": "35714c3e",
   "metadata": {},
   "outputs": [],
   "source": [
    "# Calculate the score (you may need to adjust this based on your criterion)\n",
    "score = np.sum(np.linalg.norm(MD_standardized - np.array(medoids)[labels], axis=1))"
   ]
  },
  {
   "cell_type": "code",
   "execution_count": 24,
   "id": "28fdf5aa",
   "metadata": {},
   "outputs": [],
   "source": [
    " if score < best_score:\n",
    "            best_score = score\n",
    "            best_model = kmeans"
   ]
  },
  {
   "cell_type": "code",
   "execution_count": 25,
   "id": "f0e71ba9",
   "metadata": {},
   "outputs": [],
   "source": [
    "# Relabel the clusters\n",
    "labels = best_model.predict(MD_standardized)\n",
    "MD_kmeans_labels = pd.Series(labels, name='Cluster_Labels')\n"
   ]
  },
  {
   "cell_type": "code",
   "execution_count": 26,
   "id": "04907def",
   "metadata": {},
   "outputs": [
    {
     "name": "stdout",
     "output_type": "stream",
     "text": [
      "0       0\n",
      "1       1\n",
      "2       2\n",
      "3       3\n",
      "4       0\n",
      "       ..\n",
      "1448    4\n",
      "1449    6\n",
      "1450    1\n",
      "1451    5\n",
      "1452    4\n",
      "Name: Cluster_Labels, Length: 1453, dtype: int32\n"
     ]
    }
   ],
   "source": [
    "# Print or use 'MD_kmeans_labels' as needed\n",
    "print(MD_kmeans_labels)"
   ]
  },
  {
   "cell_type": "code",
   "execution_count": 27,
   "id": "743949d7",
   "metadata": {},
   "outputs": [
    {
     "data": {
      "image/png": "[encoded data removed]",
      "text/plain": [
       "<Figure size 640x480 with 1 Axes>"
      ]
     },
     "metadata": {},
     "output_type": "display_data"
    }
   ],
   "source": [
    "plt.scatter(MD_standardized[:, 0], MD_standardized[:, 1], c=labels, cmap='viridis', alpha=0.5)\n",
    "plt.scatter(best_model.cluster_centers_[:, 0], best_model.cluster_centers_[:, 1], marker='x', s=100, c='red', label='Cluster Centers')\n",
    "plt.xlabel(\"number of segments\")\n",
    "plt.title(\"Flexible KMeans Clustering\")\n",
    "plt.legend()\n",
    "plt.show()"
   ]
  },
  {
   "cell_type": "code",
   "execution_count": 28,
   "id": "4e785d9c",
   "metadata": {},
   "outputs": [
    {
     "name": "stdout",
     "output_type": "stream",
     "text": [
      "Bootstrap 1: [6 7 7 ... 0 2 0]\n",
      "Bootstrap 2: [7 4 4 ... 2 7 1]\n",
      "Bootstrap 3: [0 0 0 ... 0 7 2]\n",
      "Bootstrap 4: [4 1 1 ... 2 3 5]\n",
      "Bootstrap 5: [0 4 6 ... 4 2 3]\n"
     ]
    }
   ],
   "source": [
    "\n",
    "from sklearn.cluster import KMeans\n",
    "from sklearn.utils import resample\n",
    "\n",
    "# Assuming 'MD_standardized' contains your standardized data\n",
    "# and 'best_model' contains the KMeans model with the optimal number of clusters\n",
    "\n",
    "# Set seed (equivalent to set.seed in R)\n",
    "np.random.seed(1234)\n",
    "\n",
    "# Perform bootstrapping for clustering\n",
    "n_bootstraps = 100\n",
    "n_clusters = best_model.n_clusters\n",
    "\n",
    "bootstrap_results = []\n",
    "\n",
    "for _ in range(n_bootstraps):\n",
    "    # Resample the data with replacement\n",
    "    bootstrapped_data = resample(MD_standardized, random_state=np.random.randint(1, 1000), replace=True)\n",
    "\n",
    "    # Fit KMeans on the bootstrapped data\n",
    "    bootstrap_kmeans = KMeans(n_clusters=n_clusters)\n",
    "    bootstrap_labels = bootstrap_kmeans.fit_predict(bootstrapped_data)\n",
    "\n",
    "    # Store the clustering results\n",
    "    bootstrap_results.append(bootstrap_labels)\n",
    "\n",
    "# 'bootstrap_results' now contains the cluster labels from each bootstrap sample\n",
    "\n",
    "# Print the first 5 bootstrap results\n",
    "for i, labels in enumerate(bootstrap_results[:5]):\n",
    "    print(f\"Bootstrap {i + 1}: {labels}\")"
   ]
  },
  {
   "cell_type": "code",
   "execution_count": 29,
   "id": "04a2bc36",
   "metadata": {},
   "outputs": [
    {
     "data": {
      "image/png": "[encoded data removed]",
      "text/plain": [
       "<Figure size 640x480 with 1 Axes>"
      ]
     },
     "metadata": {},
     "output_type": "display_data"
    }
   ],
   "source": [
    "import numpy as np\n",
    "import matplotlib.pyplot as plt\n",
    "from sklearn.cluster import KMeans\n",
    "from sklearn.decomposition import PCA\n",
    "from sklearn.preprocessing import StandardScaler\n",
    "\n",
    "# Assuming 'MD_x_standardized' contains your standardized data\n",
    "# and 'best_model' contains the KMeans model with the optimal number of clusters\n",
    "\n",
    "# Set seed (equivalent to set.seed in R)\n",
    "np.random.seed(1234)\n",
    "\n",
    "# Assuming best_model was previously trained on MD_x_standardized\n",
    "labels = best_model.predict(MD_standardized)\n",
    "\n",
    "# Calculate cluster centers\n",
    "cluster_centers = best_model.cluster_centers_\n",
    "\n",
    "# Calculate the explained variance by each cluster center\n",
    "explained_variance = np.var(cluster_centers, axis=0)\n",
    "\n",
    "# Plot a scree plot-like visualization\n",
    "plt.plot(range(1, len(explained_variance) + 1), explained_variance, marker='o')\n",
    "plt.xlabel('Cluster Number')\n",
    "plt.ylabel('Explained Variance')\n",
    "plt.title('Explained Variance by Cluster Center')\n",
    "plt.show()"
   ]
  },
  {
   "cell_type": "code",
   "execution_count": 30,
   "id": "8c4ee6bd",
   "metadata": {},
   "outputs": [
    {
     "data": {
      "image/png": "[encoded data removed]",
      "text/plain": [
       "<Figure size 1200x600 with 1 Axes>"
      ]
     },
     "metadata": {},
     "output_type": "display_data"
    }
   ],
   "source": [
    "np.random.seed(1234)\n",
    "\n",
    "# Assuming best_model was previously trained on MD_x_standardized\n",
    "labels = best_model.predict(MD_standardized)\n",
    "\n",
    "# Extract values for each cluster\n",
    "cluster_values = [MD_standardized[labels == i] for i in range(4)]  # Assuming four clusters\n",
    "\n",
    "# Plot histograms for each cluster\n",
    "plt.figure(figsize=(12, 6))\n",
    "#plt.bar(Value, Frequency, width=0.8)\n",
    "\n",
    "for i, values in enumerate(cluster_values):\n",
    "    plt.hist(values, bins=np.arange(0, 1.1, 0.1), edgecolor='black', alpha=0.5, label=f'Cluster {i + 1}')\n",
    "\n",
    "plt.xlabel('Value')\n",
    "plt.ylabel('Frequency')\n",
    "plt.title('Histograms for Each Cluster')\n",
    "plt.legend()\n",
    "plt.xlim(0, 1)\n",
    "plt.show()"
   ]
  },
  {
   "cell_type": "code",
   "execution_count": 31,
   "id": "461ffbaf",
   "metadata": {},
   "outputs": [
    {
     "name": "stdout",
     "output_type": "stream",
     "text": [
      "Number of clusters: 2, Silhouette Score: 0.21431396118952817\n",
      "Number of clusters: 3, Silhouette Score: 0.19839208720056728\n",
      "Number of clusters: 4, Silhouette Score: 0.2240504761826758\n",
      "Number of clusters: 5, Silhouette Score: 0.20373754474866915\n",
      "Number of clusters: 6, Silhouette Score: 0.21871238575982707\n",
      "Number of clusters: 7, Silhouette Score: 0.2238755362813208\n",
      "Number of clusters: 8, Silhouette Score: 0.25683108598986715\n"
     ]
    }
   ],
   "source": [
    "from sklearn.mixture import GaussianMixture\n",
    "from sklearn.metrics import silhouette_score\n",
    "from sklearn.preprocessing import StandardScaler\n",
    "\n",
    "# Assuming 'MD' contains your data\n",
    "# You may need to adjust the data preprocessing steps based on your data\n",
    "\n",
    "# Set seed (equivalent to set.seed in R)\n",
    "np.random.seed(1234)\n",
    "\n",
    "# Assuming MD was previously loaded or defined\n",
    "# You may need to adjust the data preprocessing steps based on your data\n",
    "\n",
    "# Standardize the data\n",
    "scaler = StandardScaler()\n",
    "MD_standardized = scaler.fit_transform(MD)\n",
    "\n",
    "# Perform model fitting with different numbers of clusters\n",
    "n_clusters_range = range(2, 9)\n",
    "results = []\n",
    "\n",
    "for n_clusters in n_clusters_range:\n",
    "    gmm = GaussianMixture(n_components=n_clusters, n_init=10, random_state=1234)\n",
    "    gmm.fit(MD_standardized)\n",
    "    labels = gmm.predict(MD_standardized)\n",
    "    silhouette_avg = silhouette_score(MD_standardized, labels)\n",
    "    results.append((n_clusters, silhouette_avg, gmm))\n",
    "\n",
    "# Print the results\n",
    "for n_clusters, silhouette_avg, _ in results:\n",
    "    print(f'Number of clusters: {n_clusters}, Silhouette Score: {silhouette_avg}')"
   ]
  },
  {
   "cell_type": "code",
   "execution_count": 32,
   "id": "0de73cf7",
   "metadata": {},
   "outputs": [
    {
     "name": "stdout",
     "output_type": "stream",
     "text": [
      "Number of components: 2, AIC: 887.0122605235877, BIC: 1705.6270383769815\n",
      "Number of components: 3, AIC: 2617.7888483231227, BIC: 3848.3517079349986\n",
      "Number of components: 4, AIC: -1129.738591815113, BIC: 512.772349555245\n",
      "Number of components: 5, AIC: -16844.73424558161, BIC: -14790.27522245277\n",
      "Number of components: 6, AIC: -20370.287902947945, BIC: -17903.88079806062\n",
      "Number of components: 7, AIC: -26193.641923991672, BIC: -23315.28673734587\n",
      "Number of components: 8, AIC: -47036.4675388793, BIC: -43746.16427047501\n"
     ]
    }
   ],
   "source": [
    "\n",
    "from sklearn.mixture import GaussianMixture\n",
    "from sklearn.preprocessing import StandardScaler\n",
    "\n",
    "# Assuming 'MD' contains your data\n",
    "# You may need to adjust the data preprocessing steps based on your data\n",
    "\n",
    "# Set seed (equivalent to set.seed in R)\n",
    "np.random.seed(1234)\n",
    "\n",
    "# Assuming MD was previously loaded or defined\n",
    "# You may need to adjust the data preprocessing steps based on your data\n",
    "\n",
    "# Standardize the data\n",
    "scaler = StandardScaler()\n",
    "MD_standardized = scaler.fit_transform(MD)\n",
    "\n",
    "# Perform latent class analysis with different numbers of components\n",
    "n_components_range = range(2, 9)\n",
    "results = []\n",
    "\n",
    "for n_components in n_components_range:\n",
    "    model = GaussianMixture(n_components=n_components, covariance_type='full', random_state=1234)\n",
    "    model.fit(MD_standardized)\n",
    "    results.append((n_components, model.aic(MD_standardized), model.bic(MD_standardized)))\n",
    "\n",
    "# Print the results\n",
    "for n_components, aic, bic in results:\n",
    "    print(f'Number of components: {n_components}, AIC: {aic}, BIC: {bic}')"
   ]
  },
  {
   "cell_type": "code",
   "execution_count": 33,
   "id": "13837631",
   "metadata": {},
   "outputs": [
    {
     "data": {
      "image/png": "[encoded data removed]",
      "text/plain": [
       "<Figure size 1000x600 with 1 Axes>"
      ]
     },
     "metadata": {},
     "output_type": "display_data"
    }
   ],
   "source": [
    "import matplotlib.pyplot as plt\n",
    "import seaborn as sns\n",
    "\n",
    "# Assuming you have a DataFrame named MD_m28 with AIC, BIC, ICL values for different segments\n",
    "# Adjust the column names accordingly\n",
    "\n",
    "# Example data\n",
    "MD_m28 = pd.DataFrame({\n",
    "    'Segments': [2, 3, 4, 5, 6, 7, 8],\n",
    "    'AIC': [15267.70, 14693.07, 14316.29, 14140.41, 14054.22, 13966.38, 13935.28],\n",
    "    'BIC': [15389.17, 14877.92, 14564.52, 14452.01, 14429.20, 14404.73, 14437.01],\n",
    "    'ICL': [15522.10, 15077.96, 14835.95, 14806.54, 14810.65, 14800.16, 14908.52]\n",
    "})\n",
    "\n",
    "# Plotting\n",
    "plt.figure(figsize=(10, 6))\n",
    "sns.lineplot(x='Segments', y='AIC', data=MD_m28, label='AIC')\n",
    "sns.lineplot(x='Segments', y='BIC', data=MD_m28, label='BIC')\n",
    "sns.lineplot(x='Segments', y='ICL', data=MD_m28, label='ICL')\n",
    "\n",
    "plt.xlabel('Number of Segments')\n",
    "plt.ylabel('Value of Information Criteria')\n",
    "plt.title('Information Criteria for Different Number of Segments')\n",
    "plt.legend()\n",
    "plt.show()\n"
   ]
  },
  {
   "cell_type": "code",
   "execution_count": 34,
   "id": "80579376",
   "metadata": {},
   "outputs": [
    {
     "name": "stdout",
     "output_type": "stream",
     "text": [
      "[[174  17  12   0]\n",
      " [  5 182   0   5]\n",
      " [  5  19 157  32]\n",
      " [  7   3   0 182]]\n"
     ]
    }
   ],
   "source": [
    "\n",
    "from sklearn.mixture import GaussianMixture\n",
    "from sklearn.cluster import KMeans\n",
    "from sklearn.metrics import confusion_matrix\n",
    "\n",
    "# Assuming you have a DataFrame named MD_x with your data\n",
    "# Adjust the column names and data accordingly\n",
    "\n",
    "# Example data\n",
    "MD_x = pd.DataFrame({\n",
    "    'Feature1': np.random.rand(800),\n",
    "    'Feature2': np.random.rand(800),\n",
    "    'Feature3': np.random.rand(800),\n",
    "})\n",
    "\n",
    "# Assuming you have clusters from KMeans\n",
    "kmeans = KMeans(n_clusters=4, random_state=1234)\n",
    "MD_x['KMeans_Cluster'] = kmeans.fit_predict(MD_x[['Feature1', 'Feature2', 'Feature3']])\n",
    "\n",
    "# Initialize Gaussian Mixture model with KMeans cluster memberships\n",
    "gmm = GaussianMixture(n_components=4, covariance_type='full', random_state=1234,\n",
    "                      init_params='kmeans', n_init=1, means_init=kmeans.cluster_centers_)\n",
    "MD_x['GMM_Cluster'] = gmm.fit_predict(MD_x[['Feature1', 'Feature2', 'Feature3']])\n",
    "\n",
    "# Create a confusion matrix to compare clusters\n",
    "conf_matrix = confusion_matrix(MD_x['KMeans_Cluster'], MD_x['GMM_Cluster'])\n",
    "print(conf_matrix)\n"
   ]
  },
  {
   "cell_type": "code",
   "execution_count": 35,
   "id": "1c30e8a6",
   "metadata": {},
   "outputs": [
    {
     "name": "stdout",
     "output_type": "stream",
     "text": [
      "Cluster Assignments: [1 1 1 0 0 1 1 1 0 0]\n"
     ]
    }
   ],
   "source": [
    "\n",
    "from sklearn.mixture import GaussianMixture\n",
    "from sklearn.preprocessing import StandardScaler\n",
    "\n",
    "# Assuming you have a DataFrame named mcdonalds with your data\n",
    "# Adjust the column names and data accordingly\n",
    "\n",
    "# Example data\n",
    "mcdonalds = pd.DataFrame({\n",
    "    'yummy': [1, 2, 3, 4, 5, 1, 2, 3, 4, 5],\n",
    "    'convenient': [1, 2, 3, 4, 5, 1, 2, 3, 4, 5],\n",
    "    'spicy': [1, 2, 3, 4, 5, 1, 2, 3, 4, 5],\n",
    "    'fattening': [1, 2, 3, 4, 5, 1, 2, 3, 4, 5],\n",
    "    'greasy': [1, 2, 3, 4, 5, 1, 2, 3, 4, 5],\n",
    "    'fast': [1, 2, 3, 4, 5, 1, 2, 3, 4, 5],\n",
    "    'cheap': [1, 2, 3, 4, 5, 1, 2, 3, 4, 5],\n",
    "    'tasty': [1, 2, 3, 4, 5, 1, 2, 3, 4, 5],\n",
    "    'expensive': [1, 2, 3, 4, 5, 1, 2, 3, 4, 5],\n",
    "    'healthy': [1, 2, 3, 4, 5, 1, 2, 3, 4, 5],\n",
    "    'disgusting': [1, 2, 3, 4, 5, 1, 2, 3, 4, 5],\n",
    "    'Like_n': [152, 71, 73, 59, 58, 169, 152, 187, 229, 160]\n",
    "})\n",
    "\n",
    "# Create a DataFrame for linear regression\n",
    "regression_data = mcdonalds.iloc[:, :-1]\n",
    "\n",
    "# Standardize the data\n",
    "scaler = StandardScaler()\n",
    "regression_data_standardized = scaler.fit_transform(regression_data)\n",
    "\n",
    "# Fit a Gaussian Mixture Model\n",
    "gmm = GaussianMixture(n_components=2, random_state=1234, n_init=10)\n",
    "cluster_assignments = gmm.fit_predict(regression_data_standardized)\n",
    "\n",
    "# Output cluster assignments\n",
    "print(\"Cluster Assignments:\", cluster_assignments)\n"
   ]
  },
  {
   "cell_type": "code",
   "execution_count": 36,
   "id": "a9f0c455",
   "metadata": {},
   "outputs": [
    {
     "name": "stdout",
     "output_type": "stream",
     "text": [
      "                            OLS Regression Results                            \n",
      "==============================================================================\n",
      "Dep. Variable:                 Like_n   R-squared:                       0.030\n",
      "Model:                            OLS   Adj. R-squared:                 -0.092\n",
      "Method:                 Least Squares   F-statistic:                    0.2455\n",
      "Date:                Thu, 04 Jan 2024   Prob (F-statistic):              0.634\n",
      "Time:                        21:18:10   Log-Likelihood:                -54.604\n",
      "No. Observations:                  10   AIC:                             113.2\n",
      "Df Residuals:                       8   BIC:                             113.8\n",
      "Df Model:                           1                                         \n",
      "Covariance Type:            nonrobust                                         \n",
      "=================================================================================\n",
      "                    coef    std err          t      P>|t|      [0.025      0.975]\n",
      "---------------------------------------------------------------------------------\n",
      "Intercept       152.1500     47.189      3.224      0.012      43.332     260.968\n",
      "yummyYes         -0.6409      1.293     -0.496      0.634      -3.624       2.342\n",
      "convenientYes    -0.6409      1.293     -0.496      0.634      -3.624       2.342\n",
      "spicyYes         -0.6409      1.293     -0.496      0.634      -3.624       2.342\n",
      "fatteningYes     -0.6409      1.293     -0.496      0.634      -3.624       2.342\n",
      "greasyYes        -0.6409      1.293     -0.496      0.634      -3.624       2.342\n",
      "fastYes          -0.6409      1.293     -0.496      0.634      -3.624       2.342\n",
      "cheapYes         -0.6409      1.293     -0.496      0.634      -3.624       2.342\n",
      "tastyYes         -0.6409      1.293     -0.496      0.634      -3.624       2.342\n",
      "expensiveYes     -0.6409      1.293     -0.496      0.634      -3.624       2.342\n",
      "healthyYes       -0.6409      1.293     -0.496      0.634      -3.624       2.342\n",
      "disgustingYes    -0.6409      1.293     -0.496      0.634      -3.624       2.342\n",
      "==============================================================================\n",
      "Omnibus:                        0.800   Durbin-Watson:                   0.636\n",
      "Prob(Omnibus):                  0.670   Jarque-Bera (JB):                0.629\n",
      "Skew:                           0.248   Prob(JB):                        0.730\n",
      "Kurtosis:                       1.876   Cond. No.                     9.23e+66\n",
      "==============================================================================\n",
      "\n",
      "Notes:\n",
      "[1] Standard Errors assume that the covariance matrix of the errors is correctly specified.\n",
      "[2] The input rank is higher than the number of observations.\n",
      "[3] The smallest eigenvalue is 1.43e-131. This might indicate that there are\n",
      "strong multicollinearity problems or that the design matrix is singular.\n"
     ]
    }
   ],
   "source": [
    "\n",
    "import statsmodels.api as sm\n",
    "\n",
    "# Assuming you have a DataFrame named mcdonalds with your data\n",
    "# Adjust the column names and data accordingly\n",
    "\n",
    "# Example data\n",
    "mcdonalds = pd.DataFrame({\n",
    "    'yummyYes': [1, 2, 3, 4, 5, 1, 2, 3, 4, 5],\n",
    "    'convenientYes': [1, 2, 3, 4, 5, 1, 2, 3, 4, 5],\n",
    "    'spicyYes': [1, 2, 3, 4, 5, 1, 2, 3, 4, 5],\n",
    "    'fatteningYes': [1, 2, 3, 4, 5, 1, 2, 3, 4, 5],\n",
    "    'greasyYes': [1, 2, 3, 4, 5, 1, 2, 3, 4, 5],\n",
    "    'fastYes': [1, 2, 3, 4, 5, 1, 2, 3, 4, 5],\n",
    "    'cheapYes': [1, 2, 3, 4, 5, 1, 2, 3, 4, 5],\n",
    "    'tastyYes': [1, 2, 3, 4, 5, 1, 2, 3, 4, 5],\n",
    "    'expensiveYes': [1, 2, 3, 4, 5, 1, 2, 3, 4, 5],\n",
    "    'healthyYes': [1, 2, 3, 4, 5, 1, 2, 3, 4, 5],\n",
    "    'disgustingYes': [1, 2, 3, 4, 5, 1, 2, 3, 4, 5],\n",
    "    'Like_n': [152, 71, 73, 59, 58, 169, 152, 187, 229, 160]\n",
    "})\n",
    "\n",
    "# Create a model formula\n",
    "formula = \"Like_n ~ yummyYes + convenientYes + spicyYes + fatteningYes + greasyYes + fastYes + cheapYes + tastyYes + expensiveYes + healthyYes + disgustingYes\"\n",
    "\n",
    "# Fit the linear regression model\n",
    "model = sm.OLS.from_formula(formula, data=mcdonalds)\n",
    "result = model.fit()\n",
    "\n",
    "# Output the summary\n",
    "print(result.summary())\n"
   ]
  },
  {
   "cell_type": "code",
   "execution_count": null,
   "id": "5e1e6335",
   "metadata": {},
   "outputs": [],
   "source": []
  }
 ],
 "metadata": {
  "kernelspec": {
   "display_name": "Python 3 (ipykernel)",
   "language": "python",
   "name": "python3"
  },
  "language_info": {
   "codemirror_mode": {
    "name": "ipython",
    "version": 3
   },
   "file_extension": ".py",
   "mimetype": "text/x-python",
   "name": "python",
   "nbconvert_exporter": "python",
   "pygments_lexer": "ipython3",
   "version": "3.10.9"
  }
 },
 "nbformat": 4,
 "nbformat_minor": 5
}
